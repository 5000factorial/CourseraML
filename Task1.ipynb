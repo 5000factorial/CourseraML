{
 "cells": [
  {
   "cell_type": "code",
   "execution_count": 1,
   "metadata": {},
   "outputs": [],
   "source": [
    "import numpy as np\n",
    "import pandas as pd\n",
    "import time\n",
    "import datetime\n",
    "from sklearn.model_selection import KFold, cross_val_score\n",
    "from sklearn.ensemble import GradientBoostingClassifier\n",
    "from sklearn.metrics import roc_auc_score"
   ]
  },
  {
   "cell_type": "markdown",
   "metadata": {},
   "source": [
    "**1. Считайте таблицу с признаками из файла features.csv с помощью кода, приведенного выше. Удалите признаки, связанные с итогами матча (они помечены в описании данных как отсутствующие в тестовой выборке).**"
   ]
  },
  {
   "cell_type": "code",
   "execution_count": 2,
   "metadata": {},
   "outputs": [
    {
     "data": {
      "text/plain": [
       "(97230, 108)"
      ]
     },
     "execution_count": 2,
     "metadata": {},
     "output_type": "execute_result"
    }
   ],
   "source": [
    "features = pd.read_csv('./features.csv', index_col='match_id')\n",
    "\n",
    "features.shape"
   ]
  },
  {
   "cell_type": "code",
   "execution_count": 9,
   "metadata": {},
   "outputs": [
    {
     "data": {
      "text/plain": [
       "(97230, 102)"
      ]
     },
     "execution_count": 9,
     "metadata": {},
     "output_type": "execute_result"
    }
   ],
   "source": [
    "X = features.loc[:,'start_time':'dire_first_ward_time'] \n",
    "y_all = features.loc[:,'duration':'barracks_status_dire']\n",
    "X.shape"
   ]
  },
  {
   "cell_type": "markdown",
   "metadata": {},
   "source": [
    "X -- все признаки\n",
    "y_all -- все итоговые переменные"
   ]
  },
  {
   "cell_type": "markdown",
   "metadata": {},
   "source": [
    "**2. Проверьте выборку на наличие пропусков с помощью функции count(), которая для каждого столбца показывает число заполненных значений. Много ли пропусков в данных? Запишите названия признаков, имеющих пропуски, и попробуйте для любых двух из них дать обоснование, почему их значения могут быть пропущены.**"
   ]
  },
  {
   "cell_type": "code",
   "execution_count": 4,
   "metadata": {},
   "outputs": [
    {
     "name": "stdout",
     "output_type": "stream",
     "text": [
      "                                 0\n",
      "first_blood_time             77677\n",
      "first_blood_team             77677\n",
      "first_blood_player1          77677\n",
      "first_blood_player2          53243\n",
      "radiant_bottle_time          81539\n",
      "radiant_courier_time         96538\n",
      "radiant_flying_courier_time  69751\n",
      "radiant_first_ward_time      95394\n",
      "dire_bottle_time             81087\n",
      "dire_courier_time            96554\n",
      "dire_flying_courier_time     71132\n",
      "dire_first_ward_time         95404\n"
     ]
    }
   ],
   "source": [
    "num = X.count().to_frame()\n",
    "print(num.loc[num[0] != features.shape[0]])\n"
   ]
  },
  {
   "cell_type": "markdown",
   "metadata": {},
   "source": [
    "Данные признаки(команда/игрок/время первого убийства, время первого приобретения предметов) могут иметь пропуски, т.к. соответствующие им действия могут быть не совершены за первые 5 минут матча."
   ]
  },
  {
   "cell_type": "markdown",
   "metadata": {},
   "source": [
    "**3. Замените пропуски на нули с помощью функции fillna(). На самом деле этот способ является предпочтительным для логистической регрессии, поскольку он позволит пропущенному значению не вносить никакого вклада в предсказание. Для деревьев часто лучшим вариантом оказывается замена пропуска на очень большое или очень маленькое значение — в этом случае при построении разбиения вершины можно будет отправить объекты с пропусками в отдельную ветвь дерева. Также есть и другие подходы — например, замена пропуска на среднее значение признака. Мы не требуем этого в задании, но при желании попробуйте разные подходы к обработке пропусков и сравните их между собой.**"
   ]
  },
  {
   "cell_type": "code",
   "execution_count": 5,
   "metadata": {},
   "outputs": [],
   "source": [
    "X = X.fillna(0) #замена пропусков на 0"
   ]
  },
  {
   "cell_type": "markdown",
   "metadata": {},
   "source": [
    "4. Какой столбец содержит целевую переменную? Запишите его название."
   ]
  },
  {
   "cell_type": "code",
   "execution_count": 6,
   "metadata": {},
   "outputs": [],
   "source": [
    "y = y_all.loc[:,'radiant_win'] #целевая переменная -- 'radiant_win'\n"
   ]
  },
  {
   "cell_type": "markdown",
   "metadata": {},
   "source": [
    "**4. Забудем, что в выборке есть категориальные признаки, и попробуем обучить градиентный бустинг над деревьями на имеющейся матрице \"объекты-признаки\". Зафиксируйте генератор разбиений для кросс-валидации по 5 блокам (KFold), не забудьте перемешать при этом выборку (shuffle=True), поскольку данные в таблице отсортированы по времени, и без перемешивания можно столкнуться с нежелательными эффектами при оценивании качества. Оцените качество градиентного бустинга (GradientBoostingClassifier) с помощью данной кросс-валидации, попробуйте при этом разное количество деревьев (как минимум протестируйте следующие значения для количества деревьев: 10, 20, 30). Долго ли настраивались классификаторы? Достигнут ли оптимум на испытанных значениях параметра n_estimators, или же качество, скорее всего, продолжит расти при дальнейшем его увеличении?**"
   ]
  },
  {
   "cell_type": "code",
   "execution_count": 7,
   "metadata": {},
   "outputs": [],
   "source": [
    "kf = KFold(n_splits=5, shuffle = True) #генератор разбиений для кросс-валидации по 5 блокам"
   ]
  },
  {
   "cell_type": "code",
   "execution_count": 8,
   "metadata": {},
   "outputs": [
    {
     "name": "stdout",
     "output_type": "stream",
     "text": [
      "При n = 10 качество = 0.6626965769468534, затраченное время: 0:00:21.787007\n",
      "При n = 20 качество = 0.6814949342550289, затраченное время: 0:00:37.653457\n",
      "При n = 30 качество = 0.6898195438075352, затраченное время: 0:00:53.405873\n",
      "При n = 40 качество = 0.6941188659922191, затраченное время: 0:01:17.078251\n",
      "При n = 50 качество = 0.6969521163776851, затраченное время: 0:01:57.264201\n"
     ]
    }
   ],
   "source": [
    "for n in [10, 20, 30, 40, 50]:\n",
    "    start_time = datetime.datetime.now()\n",
    "    clf = GradientBoostingClassifier(n_estimators = n)\n",
    "    score_array =[]\n",
    "    for train, test in kf.split(X):\n",
    "        X_train, X_test, y_train, y_test = X.iloc[train], X.iloc[test], y.iloc[train], y.iloc[test]\n",
    "        clf.fit(X_train, y_train)\n",
    "        pred = clf.predict_proba(X_test)[:, 1]\n",
    "        score_array.append(roc_auc_score(y_test, pred))\n",
    "    res = np.mean(score_array)\n",
    "    print('При n = ' + str(n) + ' качество = ' + str(res) + ', затраченное время: ' + str(datetime.datetime.now() - start_time))"
   ]
  },
  {
   "cell_type": "markdown",
   "metadata": {},
   "source": [
    "# Итог"
   ]
  },
  {
   "cell_type": "markdown",
   "metadata": {},
   "source": [
    "**1. Какие признаки имеют пропуски среди своих значений? Что могут означать пропуски в этих признаках (ответьте на этот вопрос для двух любых признаков)?**\n",
    "    - `first_blood_time`: игровое время первой крови\n",
    "    - `first_blood_team`: команда, совершившая первую кровь (0 — Radiant, 1 — Dire)\n",
    "    - `first_blood_player1`: игрок, причастный к событию\n",
    "    - `first_blood_player2`: второй игрок, причастный к событию\n",
    "    - `radiant_(dire_)bottle_time`: время первого приобретения командой предмета \"bottle\"\n",
    "    - `radiant_(dire_)courier_time`: время приобретения предмета \"courier\" \n",
    "    - `radiant_(dire_)flying_courier_time`: время приобретения предмета \"flying_courier\" \n",
    "    - `radiant_(dire_)first_ward_time`: время установки командой первого \"наблюдателя\", т.е. предмета, который позволяет видеть часть игрового поля\n",
    "    Данные признаки(команда/игрок/время первого убийства, время первого приобретения предметов) могут иметь пропуски, т.к. соответствующие им действия могут быть не совершены за первые 5 минут матча.\n",
    "    \n",
    "**2. Как называется столбец, содержащий целевую переменную?**\n",
    "    - `radiant_win`: 1, если победила команда Radiant, 0 — иначе\n",
    "    \n",
    "**3. Как долго проводилась кросс-валидация для градиентного бустинга с 30 деревьями? Какое качество при этом получилось?**\n",
    "    \n",
    "    При n = 30 качество = 0.689612555952278, затраченное время: 0:00:52.914256\n",
    "    \n",
    "**4. Имеет ли смысл использовать больше 30 деревьев в градиентном бустинге? Что бы вы предложили делать, чтобы ускорить его обучение при увеличении количества деревьев?**\n",
    "    \n",
    "    Использование более 30 деревьев незначительно, но увеличивает значение метрики AUC-ROC. Т.е. увеличение количества деревьев имеет смысл.\n",
    "    Для ускорения обучения можно попробовать уменьшить глубину деревьев, и оптимизировать количество признаков."
   ]
  },
  {
   "cell_type": "code",
   "execution_count": null,
   "metadata": {},
   "outputs": [],
   "source": []
  }
 ],
 "metadata": {
  "kernelspec": {
   "display_name": "Python 3",
   "language": "python",
   "name": "python3"
  },
  "language_info": {
   "codemirror_mode": {
    "name": "ipython",
    "version": 3
   },
   "file_extension": ".py",
   "mimetype": "text/x-python",
   "name": "python",
   "nbconvert_exporter": "python",
   "pygments_lexer": "ipython3",
   "version": "3.7.1"
  }
 },
 "nbformat": 4,
 "nbformat_minor": 2
}
